{
 "cells": [
  {
   "cell_type": "code",
   "execution_count": 1,
   "metadata": {},
   "outputs": [
    {
     "name": "stdout",
     "output_type": "stream",
     "text": [
      "   Recent CD4 Count viral_load_status\n",
      "0               0.0      Undetectable\n",
      "1             819.0        Suppressed\n",
      "2              56.0        Suppressed\n",
      "3             447.5        Suppressed\n",
      "4             447.5        Suppressed\n"
     ]
    }
   ],
   "source": [
    "import pandas as pd\n",
    "import numpy as np  # Import NumPy\n",
    "\n",
    "# Load the dataset\n",
    "df = pd.read_excel(r'C:\\Users\\HP\\Desktop\\viral load\\updated_research_nutrition_data.xlsx')\n",
    "\n",
    "# Define conditions for viral load status\n",
    "conditions = [\n",
    "    (df['Recent CD4 Count'] < 20),  # Undetectable\n",
    "    (df['Recent CD4 Count'] >= 1000),  # Unsuppressed\n",
    "    (df['Recent CD4 Count'] < 1000)  # Suppressed\n",
    "]\n",
    "\n",
    "# Define corresponding labels\n",
    "labels = ['Undetectable', 'Unsuppressed', 'Suppressed']\n",
    "\n",
    "# Create the viral_load_status column\n",
    "df['viral_load_status'] = np.select(conditions, labels, default='Unknown')\n",
    "\n",
    "# Display the first few rows\n",
    "print(df[['Recent CD4 Count', 'viral_load_status']].head())\n",
    "\n",
    "# Save the updated dataset\n",
    "df.to_excel(r'C:\\Users\\HP\\Desktop\\\\viral load\\updated_research_data.xlsx', index=False)\n"
   ]
  }
 ],
 "metadata": {
  "kernelspec": {
   "display_name": "viral",
   "language": "python",
   "name": "python3"
  },
  "language_info": {
   "codemirror_mode": {
    "name": "ipython",
    "version": 3
   },
   "file_extension": ".py",
   "mimetype": "text/x-python",
   "name": "python",
   "nbconvert_exporter": "python",
   "pygments_lexer": "ipython3",
   "version": "3.12.3"
  }
 },
 "nbformat": 4,
 "nbformat_minor": 2
}
