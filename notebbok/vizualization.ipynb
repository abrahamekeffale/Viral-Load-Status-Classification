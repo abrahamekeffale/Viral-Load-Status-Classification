{
 "cells": [
  {
   "cell_type": "markdown",
   "metadata": {},
   "source": [
    "Import Important Libraries"
   ]
  },
  {
   "cell_type": "code",
   "execution_count": 1,
   "metadata": {},
   "outputs": [],
   "source": [
    "import pandas as pd"
   ]
  },
  {
   "cell_type": "code",
   "execution_count": 2,
   "metadata": {},
   "outputs": [],
   "source": [
    "df=pd.read_csv(r'C:\\Users\\HP\\Desktop\\viral load\\nutrition2 (2).csv')"
   ]
  },
  {
   "cell_type": "code",
   "execution_count": 3,
   "metadata": {},
   "outputs": [
    {
     "data": {
      "text/plain": [
       "Index(['Age', 'Sex', 'Marital Status', 'Educational Level', 'Residence',\n",
       "       'Religion', 'BMI', 'WHO Stage', 'Duration on ART in Months',\n",
       "       'TB screening Result', 'FunctionalStatus', 'Baseline CD4 Count',\n",
       "       'Recent CD4 Count', 'Viral_Load_Status', 'Adherance', 'Regimen Line',\n",
       "       'TPT Started', 'CPT Use', 'Follow_up_Status'],\n",
       "      dtype='object')"
      ]
     },
     "execution_count": 3,
     "metadata": {},
     "output_type": "execute_result"
    }
   ],
   "source": [
    "df.columns"
   ]
  },
  {
   "cell_type": "code",
   "execution_count": 5,
   "metadata": {},
   "outputs": [
    {
     "data": {
      "text/plain": [
       "(4152, 19)"
      ]
     },
     "execution_count": 5,
     "metadata": {},
     "output_type": "execute_result"
    }
   ],
   "source": [
    "df.shape"
   ]
  },
  {
   "cell_type": "code",
   "execution_count": 4,
   "metadata": {},
   "outputs": [
    {
     "data": {
      "text/plain": [
       "Age                             0\n",
       "Sex                             0\n",
       "Marital Status               1213\n",
       "Educational Level            1248\n",
       "Residence                     390\n",
       "Religion                     1221\n",
       "BMI                             0\n",
       "WHO Stage                     358\n",
       "Duration on ART in Months     206\n",
       "TB screening Result          2669\n",
       "FunctionalStatus              758\n",
       "Baseline CD4 Count            677\n",
       "Recent CD4 Count              624\n",
       "Viral_Load_Status             825\n",
       "Adherance                     816\n",
       "Regimen Line                  917\n",
       "TPT Started                     0\n",
       "CPT Use                       936\n",
       "Follow_up_Status                0\n",
       "dtype: int64"
      ]
     },
     "execution_count": 4,
     "metadata": {},
     "output_type": "execute_result"
    }
   ],
   "source": [
    "df.isnull().sum()"
   ]
  },
  {
   "cell_type": "code",
   "execution_count": 6,
   "metadata": {},
   "outputs": [],
   "source": [
    "df = pd.read_excel(r'C:\\Users\\HP\\Desktop\\viral load\\updated_research_nutrition_data.xlsx')"
   ]
  },
  {
   "cell_type": "code",
   "execution_count": 7,
   "metadata": {},
   "outputs": [
    {
     "data": {
      "text/plain": [
       "Age                          0\n",
       "Sex                          0\n",
       "Marital Status               0\n",
       "Educational Level            0\n",
       "Residence                    0\n",
       "Religion                     0\n",
       "BMI                          0\n",
       "WHO Stage                    0\n",
       "Duration on ART in Months    0\n",
       "TB screening Result          0\n",
       "FunctionalStatus             0\n",
       "Baseline CD4 Count           0\n",
       "Recent CD4 Count             0\n",
       "Adherance                    0\n",
       "Regimen Line                 0\n",
       "TPT Started                  0\n",
       "CPT Use                      0\n",
       "Age_Group                    0\n",
       "Baseline_CD4_Category        0\n",
       "Recent_CD4_Category          0\n",
       "viral_load_status            0\n",
       "dtype: int64"
      ]
     },
     "execution_count": 7,
     "metadata": {},
     "output_type": "execute_result"
    }
   ],
   "source": [
    "df.isnull().sum()"
   ]
  },
  {
   "cell_type": "code",
   "execution_count": 8,
   "metadata": {},
   "outputs": [
    {
     "data": {
      "text/plain": [
       "(4152, 21)"
      ]
     },
     "execution_count": 8,
     "metadata": {},
     "output_type": "execute_result"
    }
   ],
   "source": [
    "df.shape"
   ]
  }
 ],
 "metadata": {
  "kernelspec": {
   "display_name": "viral",
   "language": "python",
   "name": "python3"
  },
  "language_info": {
   "codemirror_mode": {
    "name": "ipython",
    "version": 3
   },
   "file_extension": ".py",
   "mimetype": "text/x-python",
   "name": "python",
   "nbconvert_exporter": "python",
   "pygments_lexer": "ipython3",
   "version": "3.12.3"
  }
 },
 "nbformat": 4,
 "nbformat_minor": 2
}
